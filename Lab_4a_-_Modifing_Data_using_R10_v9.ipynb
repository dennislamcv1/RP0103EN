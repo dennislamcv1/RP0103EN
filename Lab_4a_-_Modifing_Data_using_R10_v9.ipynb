{
 "cells": [
  {
   "cell_type": "markdown",
   "metadata": {},
   "source": [
    "<a href=\"https://cognitiveclass.ai/\">\n",
    "    <img src = \"https://s3-api.us-geo.objectstorage.softlayer.net/cf-courses-data/CognitiveClass/RP0103EN/Ad/CCLog.png\" width=200 />\n",
    "</a>"
   ]
  },
  {
   "cell_type": "markdown",
   "metadata": {},
   "source": [
    "# <center>Lab 4a: Modifying Data using R</center>"
   ]
  },
  {
   "cell_type": "markdown",
   "metadata": {},
   "source": [
    "Welcome to this Lab on modifying data using R."
   ]
  },
  {
   "cell_type": "markdown",
   "metadata": {},
   "source": [
    "<div class=\"alert alert-block alert-info\" style=\"margin-top: 20px\">\n",
    "<h3>Tasks</h3>\n",
    "<ol><ol><ol>\n",
    "<li><a href=\"#refa\">Pre-requisites</a></li>\n",
    "<li><a href=\"#refb\">Load the RODBC library</a></li>\n",
    "<li><a href=\"#refc\">Connect to your database</a></li>\n",
    "<li><a href=\"#refd\">Create a test table</a></li>\n",
    "<li><a href=\"#refe\">Create a dataframe</a></li>\n",
    "<li><a href=\"#reff\">Create a new dataframe</a></li>\n",
    "<li><a href=\"#refg\">Insert the dataframe into a NEW table</a></li>\n",
    "<li><a href=\"#refh\">Use sqlUdate() to enter new values</a></li>\n",
    "<li><a href=\"#refi\">Dis-connect</a></li>\n",
    "</ol></ol></ol>\n",
    "<br>\n",
    "Estimated Time Needed: <strong>30 min</strong>\n",
    "</div>"
   ]
  },
  {
   "cell_type": "markdown",
   "metadata": {},
   "source": [
    "<a id=\"refa\"></a>\n",
    "<h3>a. Pre-requisites</h3>"
   ]
  },
  {
   "cell_type": "markdown",
   "metadata": {},
   "source": [
    "In this lab we will use JupyterLab within CC Labs to modify data in a database using R.  Information about these services is provided in the lab setup."
   ]
  },
  {
   "cell_type": "markdown",
   "metadata": {},
   "source": [
    "<a id=\"refb\"></a>\n",
    "<h3>b. Load the RODBC library</h3>\n",
    "<br>\n",
    "Let's start by loading the <b>RODBC</b> library. Enter the code and execute it (Ctrl+Enter):"
   ]
  },
  {
   "cell_type": "code",
   "execution_count": 2,
   "metadata": {},
   "outputs": [],
   "source": [
    "# Load the RDBC library\n",
    "library(RODBC);"
   ]
  },
  {
   "cell_type": "markdown",
   "metadata": {},
   "source": [
    "Double-click __here__ for the __tip__.\n",
    "\n",
    "<!-- Fill in the ...\n",
    "library(...);\n",
    "-->"
   ]
  },
  {
   "cell_type": "markdown",
   "metadata": {},
   "source": [
    "Double-click __here__ for the __solution__.\n",
    "\n",
    "<!-- Your answer is below:\n",
    "library(RODBC);\n",
    "-->"
   ]
  },
  {
   "cell_type": "markdown",
   "metadata": {},
   "source": [
    "<a id=\"refc\"></a>\n",
    "<h3>c. Connect to your database</h3>\n",
    "Enter the values for your database connection."
   ]
  },
  {
   "cell_type": "code",
   "execution_count": null,
   "metadata": {},
   "outputs": [],
   "source": [
    "# Enter the values for your database connection\n",
    "# Ensure you update the values for hostname, uid, and pwd\n",
    "dsn_driver <- \"{IBM DB2 ODBC Driver}\"\n",
    "dsn_database <- \"BLUDB\"            # e.g. \"BLUDB\"\n",
    "dsn_hostname <- \"YOUR.DASHDB.HOSTNAME\" # e.g.: \"awh-yp-small03.services.dal.bluemix.net\"\n",
    "dsn_port <- \"50000\"                # e.g. \"50000\" \n",
    "dsn_protocol <- \"TCPIP\"            # i.e. \"TCPIP\"\n",
    "dsn_uid <- \"YOUR.USERNAME\"         # e.g. \"dash104434\"\n",
    "dsn_pwd <- \"YOUR.PASSWORD\"         # e.g. \"7dBZ39xN6$o0JiX!m\""
   ]
  },
  {
   "cell_type": "markdown",
   "metadata": {},
   "source": [
    "Double-click __here__ for the __tip__.\n",
    "\n",
    "<!-- Fill in the ...\n",
    "dsn_driver <- \"{IBM ... ... Driver}\"\n",
    "dsn_database <- \"...\"            \n",
    "dsn_hostname <- \"YOUR.DASHDB.HOSTNAME\" \n",
    "dsn_port <- \"...\"               \n",
    "dsn_protocol <- \"...\"          \n",
    "dsn_... <- \"YOUR.USERNAME\"        \n",
    "dsn_... <- \"YOUR.PASSWORD\"   \n",
    "-->"
   ]
  },
  {
   "cell_type": "markdown",
   "metadata": {},
   "source": [
    "Double-click __here__ for the __solution__.\n",
    "\n",
    "<!-- Your answer is below:\n",
    "#Enter the values for your database connection\n",
    "#Ensure you update the values for hostname, uid, and pwd\n",
    "dsn_driver <- \"{IBM DB2 ODBC Driver}\"\n",
    "dsn_database <- \"BLUDB\"            # e.g. \"BLUDB\"\n",
    "dsn_hostname <- \"YOUR.DASHDB.HOSTNAME\" # e.g.: \"awh-yp-small03.services.dal.bluemix.net\"\n",
    "dsn_port <- \"50000\"                # e.g. \"50000\" \n",
    "dsn_protocol <- \"TCPIP\"            # i.e. \"TCPIP\"\n",
    "dsn_uid <- \"YOUR.USERNAME\"         # e.g. \"dash104434\"\n",
    "dsn_pwd <- \"YOUR.PASSWORD\"         # e.g. \"7dBZ39xN6$o0JiX!m\"\n",
    "-->"
   ]
  },
  {
   "cell_type": "markdown",
   "metadata": {},
   "source": [
    "Create a connection string and connect to the database."
   ]
  },
  {
   "cell_type": "code",
   "execution_count": null,
   "metadata": {},
   "outputs": [],
   "source": [
    "# Create a connection string and connect to the database\n",
    "conn_path <- paste(\"DRIVER=\",dsn_driver,\n",
    "                  \";DATABASE=\",dsn_database,\n",
    "                  \";HOSTNAME=\",dsn_hostname,\n",
    "                  \";PORT=\",dsn_port,\n",
    "                  \";PROTOCOL=\",dsn_protocol,\n",
    "                  \";UID=\",dsn_uid,\n",
    "                  \";PWD=\",dsn_pwd,sep=\"\")\n",
    "conn <- odbcDriverConnect(conn_path)\n",
    "conn"
   ]
  },
  {
   "cell_type": "markdown",
   "metadata": {},
   "source": [
    "Double-click __here__ for the __tip__.\n",
    "\n",
    "<!-- Fill in the ...\n",
    "#Create a connection string and connect to the database\n",
    "conn_... <- paste(\"DRIVER=\",...,\n",
    "                  \";DATABASE=\",...,\n",
    "                  \";HOSTNAME=\",...,\n",
    "                  \";PORT=\",...,\n",
    "                  \";PROTOCOL=\",...,\n",
    "                  \";UID=\",dsn_...,\n",
    "                  \";PWD=\",dsn_...,sep=\"\")\n",
    "conn <- ...DriverConnect(conn_...)\n",
    "conn  \n",
    "-->"
   ]
  },
  {
   "cell_type": "markdown",
   "metadata": {},
   "source": [
    "Double-click __here__ for the __solution__.\n",
    "\n",
    "<!-- Your answer is below:\n",
    "#Create a connection string and connect to the database\n",
    "conn_path <- paste(\"DRIVER=\",dsn_driver,\n",
    "                  \";DATABASE=\",dsn_database,\n",
    "                  \";HOSTNAME=\",dsn_hostname,\n",
    "                  \";PORT=\",dsn_port,\n",
    "                  \";PROTOCOL=\",dsn_protocol,\n",
    "                  \";UID=\",dsn_uid,\n",
    "                  \";PWD=\",dsn_pwd,sep=\"\")\n",
    "conn <- odbcDriverConnect(conn_path)\n",
    "conn\n",
    "-->"
   ]
  },
  {
   "cell_type": "markdown",
   "metadata": {},
   "source": [
    "View the database and driver information."
   ]
  },
  {
   "cell_type": "code",
   "execution_count": null,
   "metadata": {},
   "outputs": [],
   "source": [
    "# View database and driver information\n",
    "sql.info <- sqlTypeInfo(conn)\n",
    "conn.info <- odbcGetInfo(conn)\n",
    "conn.info[\"DBMS_Name\"]\n",
    "conn.info[\"DBMS_Ver\"]\n",
    "conn.info[\"Driver_ODBC_Ver\"]"
   ]
  },
  {
   "cell_type": "markdown",
   "metadata": {},
   "source": [
    "Double-click __here__ for the __tip__.\n",
    "\n",
    "<!-- Fill in the ...\n",
    "sql.... <- sql...(conn)\n",
    "conn.... <- odbc...(conn)\n",
    "conn....[\"..._Name\"]\n",
    "conn....[\"..._Ver\"]\n",
    "conn....[\"..._ODBC_...\"]  \n",
    "-->"
   ]
  },
  {
   "cell_type": "markdown",
   "metadata": {},
   "source": [
    "Double-click __here__ for the __solution__.\n",
    "\n",
    "<!-- Your answer is below:\n",
    "#View database and driver information\n",
    "sql.info <- sqlTypeInfo(conn)\n",
    "conn.info <- odbcGetInfo(conn)\n",
    "conn.info[\"DBMS_Name\"]\n",
    "conn.info[\"DBMS_Ver\"]\n",
    "conn.info[\"Driver_ODBC_Ver\"]\n",
    "-->"
   ]
  },
  {
   "cell_type": "markdown",
   "metadata": {},
   "source": [
    "Now drop the table in case you have already created the table and are re-running this cell."
   ]
  },
  {
   "cell_type": "code",
   "execution_count": null,
   "metadata": {},
   "outputs": [],
   "source": [
    "# Drop the table in case you have already created the table and are re-running this cell\n",
    "dropttab <- sqlDrop(conn, \"TESTR\")"
   ]
  },
  {
   "cell_type": "markdown",
   "metadata": {},
   "source": [
    "Double-click __here__ for the __tip__.\n",
    "\n",
    "<!-- Fill in the ...\n",
    "...ttab <- sql...(conn, \"...\") \n",
    "-->"
   ]
  },
  {
   "cell_type": "markdown",
   "metadata": {},
   "source": [
    "Double-click __here__ for the __solution__.\n",
    "\n",
    "<!-- Your answer is below:\n",
    "#Drop the table in case you have already created the table and are re-running this cell\n",
    "dropttab <- sqlDrop(conn, \"TESTR\")\n",
    "-->"
   ]
  },
  {
   "cell_type": "markdown",
   "metadata": {},
   "source": [
    "<a id=\"refd\"></a>\n",
    "<h3>d. Create a test table</h3>"
   ]
  },
  {
   "cell_type": "code",
   "execution_count": null,
   "metadata": {},
   "outputs": [],
   "source": [
    "# Create a test table\n",
    "createtab <- sqlQuery(conn, \"CREATE TABLE TESTR (ID INTEGER PRIMARY KEY NOT NULL, NAME CHAR(6))\", errors=FALSE)"
   ]
  },
  {
   "cell_type": "markdown",
   "metadata": {},
   "source": [
    "Double-click __here__ for the __tip__.\n",
    "\n",
    "<!-- Fill in the ...\n",
    "create... <- sql...(conn, \"CREATE ... ... (ID ... PRIMARY ... NOT ..., NAME ...(6))\", ...=FALSE)\n",
    "-->"
   ]
  },
  {
   "cell_type": "markdown",
   "metadata": {},
   "source": [
    "Double-click __here__ for the __solution__.\n",
    "\n",
    "<!-- Your answer is below:\n",
    "#Create a test table\n",
    "createtab <- sqlQuery(conn, \"CREATE TABLE TESTR (ID INTEGER PRIMARY KEY NOT NULL, NAME CHAR(6))\", errors=FALSE)\n",
    "-->"
   ]
  },
  {
   "cell_type": "markdown",
   "metadata": {},
   "source": [
    "Perform error checking to see if the table was created successfully."
   ]
  },
  {
   "cell_type": "code",
   "execution_count": null,
   "metadata": {},
   "outputs": [],
   "source": [
    "# Perform error checking to see if the table was created successfully\n",
    "if(createtab==-1){\n",
    "      cat(\"An error has occurred:\\n\")\n",
    "      err.msg <- odbcGetErrMsg(conn)\n",
    "      for (error in err.msg) {\n",
    "        cat(error,\"\\n\")\n",
    "      } \n",
    "      } else {\n",
    "          cat (\"Table created successfully.\\n\")\n",
    "}"
   ]
  },
  {
   "cell_type": "markdown",
   "metadata": {},
   "source": [
    "Double-click __here__ for the __tip__.\n",
    "\n",
    "<!-- Fill in the ...\n",
    "if(create...==...){\n",
    "      ...(\"An ... has ...:\\n\")\n",
    "      ....msg <- odbc...(conn)\n",
    "      for (error in ....msg) {\n",
    "        ...(error,\"\\n\")\n",
    "      } \n",
    "      } else {\n",
    "          ... (\"Table ... successfully.\\n\")\n",
    "}\n",
    "-->"
   ]
  },
  {
   "cell_type": "markdown",
   "metadata": {},
   "source": [
    "Double-click __here__ for the __solution__.\n",
    "\n",
    "<!-- Your answer is below:\n",
    "# Perform error checking to see if the table was created successfully\n",
    "if(createtab==-1){\n",
    "      cat(\"An error has occurred:\\n\")\n",
    "      err.msg <- odbcGetErrMsg(conn)\n",
    "      for (error in err.msg) {\n",
    "        cat(error,\"\\n\")\n",
    "      } \n",
    "      } else {\n",
    "          cat (\"Table created successfully.\\n\")\n",
    "}\n",
    "-->"
   ]
  },
  {
   "cell_type": "markdown",
   "metadata": {},
   "source": [
    "Get the column information for the newly created test table."
   ]
  },
  {
   "cell_type": "code",
   "execution_count": null,
   "metadata": {},
   "outputs": [],
   "source": [
    "# Get column information for the newly created test table\n",
    "testcol.detail <- sqlColumns(conn, \"TESTR\")\n",
    "print(testcol.detail[c(4,6,7,18)], row.names=FALSE)"
   ]
  },
  {
   "cell_type": "markdown",
   "metadata": {},
   "source": [
    "Double-click __here__ for the __tip__.\n",
    "\n",
    "<!-- Fill in the ...\n",
    "test....detail <- sql...(conn, \"...\")\n",
    "print(test....detail[c(...,...,7,...)], ....names=FALSE)\n",
    "-->"
   ]
  },
  {
   "cell_type": "markdown",
   "metadata": {},
   "source": [
    "Double-click __here__ for the __solution__.\n",
    "\n",
    "<!-- Your answer is below:\n",
    "#Get column information for the newly created test table\n",
    "testcol.detail <- sqlColumns(conn, \"TESTR\")\n",
    "print(testcol.detail[c(4,6,7,18)], row.names=FALSE)\n",
    "-->"
   ]
  },
  {
   "cell_type": "markdown",
   "metadata": {},
   "source": [
    "<a id=\"refe\"></a>\n",
    "<h3>e. Create a dataframe</h3>\n",
    "<p>Create a dataframe with sample values."
   ]
  },
  {
   "cell_type": "code",
   "execution_count": null,
   "metadata": {},
   "outputs": [],
   "source": [
    "# Create a dataframe with sample values\n",
    "id <- c(1, 2, 3)\n",
    "name <- c(\"BAT   \", \"CAT   \", \"DOG   \")\n",
    "testrdf <- data.frame(id, name)\n",
    "# View the contents of the dataframe\n",
    "testrdf"
   ]
  },
  {
   "cell_type": "markdown",
   "metadata": {},
   "source": [
    "Double-click __here__ for the __tip__.\n",
    "\n",
    "<!-- Fill in the ...\n",
    "id <- c(1, 2, 3)\n",
    "name <- c(\"...\", \"...\", \"...\")\n",
    "test... <- ....frame(..., name)\n",
    "test...\n",
    "-->"
   ]
  },
  {
   "cell_type": "markdown",
   "metadata": {},
   "source": [
    "Double-click __here__ for the __solution__.\n",
    "\n",
    "<!-- Your answer is below:\n",
    "#Create a dataframe with sample values\n",
    "id <- c(1, 2, 3)\n",
    "name <- c(\"BAT   \", \"CAT   \", \"DOG   \")\n",
    "testrdf <- data.frame(id, name)\n",
    "#view the contents of the dataframe\n",
    "testrdf\n",
    "-->"
   ]
  },
  {
   "cell_type": "markdown",
   "metadata": {},
   "source": [
    "Save the contents of the test dataframe into the test table."
   ]
  },
  {
   "cell_type": "code",
   "execution_count": null,
   "metadata": {},
   "outputs": [],
   "source": [
    "# Save the contents of the test dataframe into the test table\n",
    "sqlSave(conn, testrdf, \"TESTR\", append=TRUE, fast=FALSE, rownames=FALSE, colnames=FALSE)"
   ]
  },
  {
   "cell_type": "markdown",
   "metadata": {},
   "source": [
    "Double-click __here__ for the __tip__.\n",
    "\n",
    "<!-- Fill in the ...\n",
    "sql...(conn, test..., \"...\", ...=TRUE, fast=..., ...names=FALSE, ...names=FALSE)\n",
    "-->"
   ]
  },
  {
   "cell_type": "markdown",
   "metadata": {},
   "source": [
    "Double-click __here__ for the __solution__.\n",
    "\n",
    "<!-- Your answer is below:\n",
    "# Save the contents of the test dataframe into the test table\n",
    "sqlSave(conn, testrdf, \"TESTR\", append=TRUE, fast=FALSE, rownames=FALSE, colnames=FALSE)\n",
    "-->"
   ]
  },
  {
   "cell_type": "markdown",
   "metadata": {},
   "source": [
    "Check that the contents were saved in the database by fetching the contents of the table. "
   ]
  },
  {
   "cell_type": "code",
   "execution_count": null,
   "metadata": {},
   "outputs": [],
   "source": [
    "# Check the contents were saved in the database by fetching the contents of the table\n",
    "testrdb <- sqlFetch(conn, \"TESTR\", stringsAsFactors=FALSE)\n",
    "testrdb"
   ]
  },
  {
   "cell_type": "markdown",
   "metadata": {},
   "source": [
    "Double-click __here__ for the __tip__.\n",
    "\n",
    "<!-- Fill in the ...\n",
    "test... <- sql...(conn, \"...\", strings...=FALSE)\n",
    "test...\n",
    "-->"
   ]
  },
  {
   "cell_type": "markdown",
   "metadata": {},
   "source": [
    "Double-click __here__ for the __solution__.\n",
    "\n",
    "<!-- Your answer is below:\n",
    "# Check the contents were saved in the database by fetching the contents of the table\n",
    "testrdb <- sqlFetch(conn, \"TESTR\", stringsAsFactors=FALSE)\n",
    "testrdb\n",
    "-->"
   ]
  },
  {
   "cell_type": "markdown",
   "metadata": {},
   "source": [
    "Find the ID of the last row in the table and increment it."
   ]
  },
  {
   "cell_type": "code",
   "execution_count": null,
   "metadata": {},
   "outputs": [],
   "source": [
    "# Find the ID of last row in the table and increment it\n",
    "newID <- nrow(testrdb) + 1\n",
    "newID"
   ]
  },
  {
   "cell_type": "markdown",
   "metadata": {},
   "source": [
    "Double-click __here__ for the __tip__.\n",
    "\n",
    "<!-- Fill in the ...\n",
    "new... <- n...(test...) + ...\n",
    "new...\n",
    "-->"
   ]
  },
  {
   "cell_type": "markdown",
   "metadata": {},
   "source": [
    "Double-click __here__ for the __solution__.\n",
    "\n",
    "<!-- Your answer is below:\n",
    "# Find the ID of last row in the table and increment it\n",
    "newID <- nrow(testrdb) + 1\n",
    "newID\n",
    "-->"
   ]
  },
  {
   "cell_type": "markdown",
   "metadata": {},
   "source": [
    "<a id=\"reff\"></a>\n",
    "<h3>f. Create a new dataframe</h3>\n",
    "<p>Create a dataframe for the new row with the incremented ID.</p>"
   ]
  },
  {
   "cell_type": "code",
   "execution_count": null,
   "metadata": {},
   "outputs": [],
   "source": [
    "# Create a dataframe for the new row with the incremented ID\n",
    "newrow <- data.frame(\"ID\"=newID, \"NAME\"=\"FOG   \")\n",
    "newrow"
   ]
  },
  {
   "cell_type": "markdown",
   "metadata": {},
   "source": [
    "Double-click __here__ for the __tip__.\n",
    "\n",
    "<!-- Fill in the ...\n",
    "new... <- data....(\"ID\"=...ID, \"...\"=\"FOG   \")\n",
    "new...\n",
    "-->"
   ]
  },
  {
   "cell_type": "markdown",
   "metadata": {},
   "source": [
    "Double-click __here__ for the __solution__.\n",
    "\n",
    "<!-- Your answer is below:\n",
    "# Create a dataframe for the new row with the incremented ID\n",
    "newrow <- data.frame(\"ID\"=newID, \"NAME\"=\"FOG   \")\n",
    "newrow\n",
    "-->"
   ]
  },
  {
   "cell_type": "markdown",
   "metadata": {},
   "source": [
    "Now let's insert the new row in the table; note that append is TRUE."
   ]
  },
  {
   "cell_type": "code",
   "execution_count": null,
   "metadata": {},
   "outputs": [],
   "source": [
    "# Now let's insert the new row in the table\n",
    "# Note below append=TRUE\n",
    "sqlSave(conn, newrow, \"TESTR\", append=TRUE, fast=FALSE, rownames=FALSE, colnames=FALSE)"
   ]
  },
  {
   "cell_type": "markdown",
   "metadata": {},
   "source": [
    "Double-click __here__ for the __tip__.\n",
    "\n",
    "<!-- Fill in the ...\n",
    "sql...(conn, new..., \"...\", ...=TRUE, fast=..., row...=FALSE, ...names=FALSE)\n",
    "-->"
   ]
  },
  {
   "cell_type": "markdown",
   "metadata": {},
   "source": [
    "Double-click __here__ for the __solution__.\n",
    "\n",
    "<!-- Your answer is below:\n",
    "#Now let's insert the new row in the table\n",
    "#Note below append=TRUE\n",
    "sqlSave(conn, newrow, \"TESTR\", append=TRUE, fast=FALSE, rownames=FALSE, colnames=FALSE)\n",
    "-->"
   ]
  },
  {
   "cell_type": "markdown",
   "metadata": {},
   "source": [
    "Let's retrieve the table contents and see if the new row was added."
   ]
  },
  {
   "cell_type": "code",
   "execution_count": null,
   "metadata": {},
   "outputs": [],
   "source": [
    "# Lets retrieve the table contents and see if the new row was added\n",
    "testrdbnew <- sqlFetch(conn, \"TESTR\", stringsAsFactors=FALSE)\n",
    "testrdbnew"
   ]
  },
  {
   "cell_type": "markdown",
   "metadata": {},
   "source": [
    "Double-click __here__ for the __tip__.\n",
    "\n",
    "<!-- Fill in the ...\n",
    "#Lets retrieve the table contents and see if the new row was added\n",
    "test... <- sql...(conn, \"...\", strings...=FALSE)\n",
    "test...\n",
    "-->"
   ]
  },
  {
   "cell_type": "markdown",
   "metadata": {},
   "source": [
    "Double-click __here__ for the __solution__.\n",
    "\n",
    "<!-- Your answer is below:\n",
    "#Lets retrieve the table contents and see if the new row was added\n",
    "testrdbnew <- sqlFetch(conn, \"TESTR\", stringsAsFactors=FALSE)\n",
    "testrdbnew\n",
    "-->"
   ]
  },
  {
   "cell_type": "markdown",
   "metadata": {},
   "source": [
    "Let's add a few more rows to the database; first create a dataframe with a couple more rows."
   ]
  },
  {
   "cell_type": "code",
   "execution_count": null,
   "metadata": {},
   "outputs": [],
   "source": [
    "# Lets add a few more rows to the database\n",
    "# First create a dataframe with couple more rows\n",
    "ID <- c(5,6)\n",
    "NAME <- c(\"JOG   \", \"LOG   \")\n",
    "newrows <- data.frame(ID, NAME)\n",
    "newrows"
   ]
  },
  {
   "cell_type": "markdown",
   "metadata": {},
   "source": [
    "Double-click __here__ for the __tip__.\n",
    "\n",
    "<!-- Fill in the ...\n",
    "ID <- c(...,...)\n",
    "NAME <- c(\"...   \", \"...   \")\n",
    "new... <- data....(..., NAME)\n",
    "new...\n",
    "-->"
   ]
  },
  {
   "cell_type": "markdown",
   "metadata": {},
   "source": [
    "Double-click __here__ for the __solution__.\n",
    "\n",
    "<!-- Your answer is below:\n",
    "#Lets add a few more rows to the database\n",
    "#First create a dataframe with couple more rows\n",
    "ID <- c(5,6)\n",
    "NAME <- c(\"JOG   \", \"LOG   \")\n",
    "newrows <- data.frame(ID, NAME)\n",
    "newrows\n",
    "-->"
   ]
  },
  {
   "cell_type": "markdown",
   "metadata": {},
   "source": [
    "Add these new rows to the dataframe we retrieved from the database."
   ]
  },
  {
   "cell_type": "code",
   "execution_count": null,
   "metadata": {},
   "outputs": [],
   "source": [
    "# Add these new rows to the dataframe we retrieved from the database\n",
    "testrdbnewrows <- rbind(testrdbnew,newrows)\n",
    "testrdbnewrows"
   ]
  },
  {
   "cell_type": "markdown",
   "metadata": {},
   "source": [
    "Double-click __here__ for the __tip__.\n",
    "\n",
    "<!-- Fill in the ...\n",
    "test...rows <- r...(test...,...rows)\n",
    "test...rows\n",
    "-->"
   ]
  },
  {
   "cell_type": "markdown",
   "metadata": {},
   "source": [
    "Double-click __here__ for the __solution__.\n",
    "\n",
    "<!-- Your answer is below:\n",
    "#Add these new rows to the dataframe we retrieved from the database\n",
    "testrdbnewrows <- rbind(testrdbnew,newrows)\n",
    "testrdbnewrows\n",
    "-->"
   ]
  },
  {
   "cell_type": "markdown",
   "metadata": {},
   "source": [
    "<a id=\"refg\"></a>\n",
    "<h3>g. Insert the dataframe into a NEW table</h3>\n",
    "<p>Now let's insert the dataframe with new rows into a NEW table in the database. Because TESTR2 does not exist it will be created.</p>"
   ]
  },
  {
   "cell_type": "code",
   "execution_count": null,
   "metadata": {},
   "outputs": [],
   "source": [
    "# Now let's insert the dataframe with new rows into a NEW table in the database\n",
    "# Ensure the table does not exist\n",
    "dropttab <- sqlDrop(conn, \"TESTR2\")  #Ensure the table does not exist\n",
    "# Because TESTR2 does not exist it will be created\n",
    "sqlSave(conn, testrdbnewrows, \"TESTR2\", fast=FALSE, rownames=FALSE, colnames=FALSE)"
   ]
  },
  {
   "cell_type": "markdown",
   "metadata": {},
   "source": [
    "Double-click __here__ for the __tip__.\n",
    "\n",
    "<!-- Fill in the ...\n",
    "drop... <- sql...(conn, \"...\")  \n",
    "sql...(conn, test..., \"...\", fast=..., row...=FALSE, col...=FALSE)\n",
    "-->"
   ]
  },
  {
   "cell_type": "markdown",
   "metadata": {},
   "source": [
    "Double-click __here__ for the __solution__.\n",
    "\n",
    "<!-- Your answer is below:\n",
    "#Now let's insert the dataframe with new rows into a NEW table in the database\n",
    "dropttab <- sqlDrop(conn, \"TESTR2\")  #Ensure the table does not exist\n",
    "#Because TESTR2 does not exist it will be created\n",
    "sqlSave(conn, testrdbnewrows, \"TESTR2\", fast=FALSE, rownames=FALSE, colnames=FALSE)\n",
    "-->"
   ]
  },
  {
   "cell_type": "markdown",
   "metadata": {},
   "source": [
    "Let's fetch the contents of the new table to see if the contents of the new table match those of the test database new rows we inserted earlier."
   ]
  },
  {
   "cell_type": "code",
   "execution_count": null,
   "metadata": {},
   "outputs": [],
   "source": [
    "# Let's fetch the contents of the new table\n",
    "testrdb2 <- sqlFetch(conn, \"TESTR2\", stringsAsFactors=FALSE)\n",
    "# See if the contents o fthe new table match those of testdbnewrows we inserted\n",
    "testrdb2"
   ]
  },
  {
   "cell_type": "markdown",
   "metadata": {},
   "source": [
    "Double-click __here__ for the __tip__.\n",
    "\n",
    "<!-- Fill in the ...\n",
    "test... <- sql...(conn, \"...\", strings...=FALSE)\n",
    "test...\n",
    "-->"
   ]
  },
  {
   "cell_type": "markdown",
   "metadata": {},
   "source": [
    "Double-click __here__ for the __solution__.\n",
    "\n",
    "<!-- Your answer is below:\n",
    "#let's fetch the contents of the new table\n",
    "testrdb2 <- sqlFetch(conn, \"TESTR2\", stringsAsFactors=FALSE)\n",
    "#See if the contents o fthe new table match those of testdbnewrows we inserted\n",
    "testrdb2\n",
    "-->"
   ]
  },
  {
   "cell_type": "markdown",
   "metadata": {},
   "source": [
    "Now let's update some data; set a new value for the second column in the sixth row."
   ]
  },
  {
   "cell_type": "code",
   "execution_count": null,
   "metadata": {},
   "outputs": [],
   "source": [
    "# Now lets update some data\n",
    "# Set a new value for the second column in sixth row\n",
    "testrdb2[6,2] <- \"MEG   \""
   ]
  },
  {
   "cell_type": "markdown",
   "metadata": {},
   "source": [
    "Double-click __here__ for the __tip__.\n",
    "\n",
    "<!-- Fill in the ...\n",
    "test...[6,...] <- \"...\" \n",
    "-->"
   ]
  },
  {
   "cell_type": "markdown",
   "metadata": {},
   "source": [
    "Double-click __here__ for the __solution__.\n",
    "\n",
    "<!-- Your answer is below:\n",
    "testrdb2[6,2] <- \"MEG   \" \n",
    "-->"
   ]
  },
  {
   "cell_type": "markdown",
   "metadata": {},
   "source": [
    "<a id=\"refh\"></a>\n",
    "<h3>h. Use sqlUdate() to enter new values</h3>\n",
    "<p>Now use sqlUpdate() to enter the new value into the database; then fetch the contents of the updated table.</p>"
   ]
  },
  {
   "cell_type": "code",
   "execution_count": null,
   "metadata": {},
   "outputs": [],
   "source": [
    "# Now use sqlUpdate() to enter the new value into the database\n",
    "sqlUpdate(conn, testrdb2,\"TESTR2\", index=\"ID\")\n",
    "# Fetch the contents of the updated table\n",
    "testrdb3 <- sqlFetch(conn, \"TESTR2\", stringsAsFactors=FALSE)\n",
    "testrdb3"
   ]
  },
  {
   "cell_type": "markdown",
   "metadata": {},
   "source": [
    "Double-click __here__ for the __tip__.\n",
    "\n",
    "<!-- Fill in the ...\n",
    "sql...(conn, ...,\"TEST...\", ...=\"ID\")\n",
    "#fetch the contents of the updated table\n",
    "test... <- sql...(conn, \"TEST...\", strings...=FALSE)\n",
    "test...\n",
    "-->"
   ]
  },
  {
   "cell_type": "markdown",
   "metadata": {},
   "source": [
    "Double-click __here__ for the __solution__.\n",
    "\n",
    "<!-- Your answer is below:\n",
    "sqlUpdate(conn, testrdb2,\"TESTR2\", index=\"ID\")\n",
    "#fetch the contents of the updated table\n",
    "testrdb3 <- sqlFetch(conn, \"TESTR2\", stringsAsFactors=FALSE)\n",
    "testrdb3\n",
    "-->"
   ]
  },
  {
   "cell_type": "markdown",
   "metadata": {},
   "source": [
    "Note: Rather than use SQLUpdate, sometimes it may be more efficient to modify the data using the SQL UPDATE statement via sqlQuery()"
   ]
  },
  {
   "cell_type": "markdown",
   "metadata": {},
   "source": [
    "<a id=\"refi\"></a>\n",
    "<h3>i. Close the connection</h3>"
   ]
  },
  {
   "cell_type": "code",
   "execution_count": null,
   "metadata": {},
   "outputs": [],
   "source": [
    "# Type your code here\n",
    "close(conn)"
   ]
  },
  {
   "cell_type": "markdown",
   "metadata": {},
   "source": [
    "Double-click __here__ for the __tip__.\n",
    "\n",
    "<!-- Fill in the ...\n",
    "...(...)\n",
    "-->"
   ]
  },
  {
   "cell_type": "markdown",
   "metadata": {},
   "source": [
    "Double-click __here__ for the __solution__.\n",
    "\n",
    "<!-- Your answer is below:\n",
    "close(conn)\n",
    "-->"
   ]
  },
  {
   "cell_type": "markdown",
   "metadata": {},
   "source": [
    "<a id=\"refj\"></a>\n",
    "<h3>Summary</h3>"
   ]
  },
  {
   "cell_type": "markdown",
   "metadata": {},
   "source": [
    "In this lab you learned how to modify data in a database using R.\n",
    "\n",
    "This notebook is part of the free course on Cognitive Class called *Using R with Databases*. If you accessed this notebook outside the course, you can take this free self-paced course, online by going to: https://cognitiveclass.ai/courses/using-r-with-databases/"
   ]
  },
  {
   "cell_type": "markdown",
   "metadata": {},
   "source": [
    "<hr>\n",
    "<h3>Tell your friends that you're taking the Using R with Database course!</h3>\n",
    "\n",
    "<script type=\"text/javascript\" async src=\"https://platform.twitter.com/widgets.js\"></script>\n",
    "\n",
    "<a href=\"https://twitter.com/intent/tweet?text=Just+learnt+how+to+modify+data+in+databases+using+R+from+%23jupyter+notebooks+Thanks+%40BigDataU\">Tweet Now!</a>"
   ]
  },
  {
   "cell_type": "markdown",
   "metadata": {},
   "source": [
    "#### Thank you for completing this lab on modifying data using R.\n",
    "<hr>"
   ]
  },
  {
   "cell_type": "markdown",
   "metadata": {},
   "source": [
    "### About the Authors:  \n",
    "Hi! It's [Rav Ahuja](https://ca.linkedin.com/in/rav-ahuja-8aa4562a) and [Agatha Colangelo](https://www.linkedin.com/in/agathacolangelo), the authors of this notebook. We hope you found this lab on modifying data using R easy to do! There's lots more to learn about R and Relational Databases but you're well on your way. Feel free to connect with us if you have any questions.\n",
    "<hr>"
   ]
  },
  {
   "cell_type": "markdown",
   "metadata": {},
   "source": [
    "Copyright &copy; 2017 [Cognitive Class](https://cognitiveclass.ai/?utm_source=bducopyrightlink&utm_medium=dswb&utm_campaign=bdu). This notebook and its source code are released under the terms of the [MIT License](https://cognitiveclass.ai/mit-license/)."
   ]
  }
 ],
 "metadata": {
  "kernelspec": {
   "display_name": "R",
   "language": "R",
   "name": "ir"
  },
  "language_info": {
   "codemirror_mode": "r",
   "file_extension": ".r",
   "mimetype": "text/x-r-source",
   "name": "R",
   "pygments_lexer": "r",
   "version": "3.5.1"
  },
  "widgets": {
   "state": {},
   "version": "1.1.2"
  }
 },
 "nbformat": 4,
 "nbformat_minor": 2
}
