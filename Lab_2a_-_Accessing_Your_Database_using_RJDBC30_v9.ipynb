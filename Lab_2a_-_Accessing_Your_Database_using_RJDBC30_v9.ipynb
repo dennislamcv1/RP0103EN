{
 "cells": [
  {
   "cell_type": "markdown",
   "metadata": {},
   "source": [
    "<a href=\"https://cognitiveclass.ai/\">\n",
    "    <img src = \"https://s3-api.us-geo.objectstorage.softlayer.net/cf-courses-data/CognitiveClass/RP0103EN/Ad/CCLog.png\" width=200 />\n",
    "</a>"
   ]
  },
  {
   "cell_type": "markdown",
   "metadata": {},
   "source": [
    "<h1 align=center><font size=6>Lab 2a. Accessing Your Database using RJDBC</font></h1>"
   ]
  },
  {
   "cell_type": "markdown",
   "metadata": {},
   "source": [
    "### Welcome!\n",
    "\n",
    "In this hands-on lab, we will discover how to connect and query data from database servers with R using RJDBC."
   ]
  },
  {
   "cell_type": "markdown",
   "metadata": {},
   "source": [
    "<div class=\"alert alert-block alert-info\" style=\"margin-top: 20px\">\n",
    "<h3>Tasks</h3>\n",
    "<ol><ol><ol>\n",
    "<li><a href=\"#ref4a\">Load the RJDBC library</a></li>\n",
    "<li><a href=\"#ref4b\">Provide database credentials</a></li>\n",
    "<li><a href=\"#ref4c\">Connect to the database</a></li>\n",
    "<li><a href=\"#ref4d\">Execute a Query (and retrieve results)</a></li>\n",
    "<li><a href=\"#ref4e\">Analyze the results</a></li>\n",
    "<li><a href=\"#ref4f\">Dis-connect</a></li>\n",
    "</ol></ol></ol>\n",
    "<p></p>\n",
    "Estimated Time Needed: <strong>15 min</strong>\n",
    "</div>"
   ]
  },
  {
   "cell_type": "markdown",
   "metadata": {},
   "source": [
    "<b>Pre-requisite</b>: In this lab we will use JupyterLab within CC Labs to access data in a Db2 Warehouse on Cloud database using RJDBC.  Information about JupyterLab, CC Labs, and Db2 Warehouse services is provided in the lab setup."
   ]
  },
  {
   "cell_type": "markdown",
   "metadata": {},
   "source": [
    "<a id=\"ref4a\"></a>\n",
    "### a. Load the RJDBC library\n",
    "The RJDBC package is pre-installed in your workbench. Let’s load the RJDBC package by clicking on the following cell and executing it (Shift+Enter):"
   ]
  },
  {
   "cell_type": "code",
   "execution_count": null,
   "metadata": {},
   "outputs": [],
   "source": [
    "options(repos = c(CRAN = \"http://cran.rstudio.com\"))\n",
    "library(RJDBC);"
   ]
  },
  {
   "cell_type": "markdown",
   "metadata": {},
   "source": [
    "Double-click __here__ for the __tip__.\n",
    "\n",
    "<!-- Fill in the ...\n",
    "library(...);\n",
    "-->"
   ]
  },
  {
   "cell_type": "markdown",
   "metadata": {},
   "source": [
    "Double-click __here__ for the __solution__.\n",
    "\n",
    "<!-- Your answer is below:\n",
    "library(RJDBC);\n",
    "-->"
   ]
  },
  {
   "cell_type": "markdown",
   "metadata": {},
   "source": [
    "<a id=\"ref4b\"></a>\n",
    "### b. Provide database credentials\n",
    "In the following cell enter the connection details for your instance of <b>Db2 Warehouse</b> and run it. Remember to update the values for hostname, userid, and password.\n",
    "\n",
    "For instructions on using <b>Db2 Warehouse</b>, go to <b>Lab 1</b>."
   ]
  },
  {
   "cell_type": "code",
   "execution_count": null,
   "metadata": {},
   "outputs": [],
   "source": [
    "#Enter the values for you database connection\n",
    "dsn_driver = \"com.ibm.db2.jcc.DB2Driver\"\n",
    "dsn_database = \"BLUDB\"            # e.g. \"BLUDB\"\n",
    "dsn_hostname = \"<yourhostname>\"   # e.g. replace <yourhostname> with your hostname, e.g., \"Db2 Warehouse01.datascientstworkbench.com\"\n",
    "dsn_port = \"50000\"                # e.g. \"50000\" \n",
    "dsn_protocol = \"TCPIP\"            # i.e. \"TCPIP\"\n",
    "dsn_uid = \"<userid>\"              # e.g. replace <userid> with your userid\n",
    "dsn_pwd = \"<password>\"            # e.g. replace <password> with your password\n",
    "-->"
   ]
  },
  {
   "cell_type": "markdown",
   "metadata": {},
   "source": [
    "Double-click __here__ for the __tip__.\n",
    "\n",
    "<!-- Fill in the ...\n",
    "dsn_driver = \"com.ibm.db2....\"\n",
    "dsn_database = \"...\"            \n",
    "dsn_hostname = \"<yourhostname>\"  \n",
    "dsn_port = \"...\"               \n",
    "dsn_protocol = \"...\"           \n",
    "dsn_uid = \"<userid>\"        \n",
    "dsn_pwd = \"<password>\"\n",
    "-->"
   ]
  },
  {
   "cell_type": "markdown",
   "metadata": {},
   "source": [
    "Double-click __here__ for the __solution__.\n",
    "\n",
    "<!-- Your answer is below:\n",
    "#Enter the values for you database connection\n",
    "dsn_driver = \"com.ibm.db2.jcc.DB2Driver\"\n",
    "dsn_database = \"BLUDB\"            # e.g. \"BLUDB\"\n",
    "dsn_hostname = \"<yourhostname>\"   # e.g. replace <yourhostname> with your hostname, e.g., \"Db2 Warehouse01.datascientstworkbench.com\"\n",
    "dsn_port = \"50000\"                # e.g. \"50000\" \n",
    "dsn_protocol = \"TCPIP\"            # i.e. \"TCPIP\"\n",
    "dsn_uid = \"<userid>\"              # e.g. replace <userid> with your userid\n",
    "dsn_pwd = \"<password>\"            # e.g. replace <password> with your password\n",
    "-->"
   ]
  },
  {
   "cell_type": "markdown",
   "metadata": {},
   "source": [
    "<a id=\"ref4c\"></a>\n",
    "### c. Connect to the database\n",
    "First we will specify which database driver to use. Then create a JDBC connection string."
   ]
  },
  {
   "cell_type": "code",
   "execution_count": null,
   "metadata": {},
   "outputs": [],
   "source": [
    "jcc = JDBC(\"com.ibm.db2.jcc.DB2Driver\", \"~/.rlang/db2jcc-db2jcc4.jar\");\n",
    "jdbc_path = paste(\"jdbc:db2://\",  dsn_hostname, \":\", dsn_port, \"/\", dsn_database, sep=\"\");"
   ]
  },
  {
   "cell_type": "markdown",
   "metadata": {},
   "source": [
    "Double-click __here__ for the __tip__.\n",
    "\n",
    "<!-- Fill in the ...\n",
    "jcc = JDBC(\"com.ibm.db2.jcc....r\", \"<path to db2jcc-db2jcc4.jar>\");\n",
    "jdbc_path = paste(\"jdbc:db2://\",  dsn_port, \":\", ..., \"/\", dsn_database, ...);\n",
    "-->"
   ]
  },
  {
   "cell_type": "markdown",
   "metadata": {},
   "source": [
    "Double-click __here__ for the __solution__.\n",
    "\n",
    "<!-- Your answer is below:\n",
    "jcc = JDBC(\"com.ibm.db2.jcc.DB2Driver\", \"~/.rlang/db2jcc-db2jcc4.jar\");\n",
    "jdbc_path = paste(\"jdbc:db2://\",  dsn_hostname, \":\", dsn_port, \"/\", dsn_database, sep=\"\");\n",
    "-->"
   ]
  },
  {
   "cell_type": "markdown",
   "metadata": {},
   "source": [
    "Now, let's use the driver and connection string to actually connect to the database using the RJDBC function dbConnect()."
   ]
  },
  {
   "cell_type": "code",
   "execution_count": null,
   "metadata": {},
   "outputs": [],
   "source": [
    "conn = dbConnect(jcc, jdbc_path, user=dsn_uid, password=dsn_pwd)"
   ]
  },
  {
   "cell_type": "markdown",
   "metadata": {},
   "source": [
    "Double-click __here__ for the __tip__.\n",
    "\n",
    "<!-- Fill in the ...\n",
    "conn = dbConnect(..., ..., user=..., password=...)\n",
    "-->"
   ]
  },
  {
   "cell_type": "markdown",
   "metadata": {},
   "source": [
    "Double-click __here__ for the __solution__.\n",
    "\n",
    "<!-- Your answer is below:\n",
    "conn = dbConnect(jcc, jdbc_path, user=dsn_uid, password=dsn_pwd)\n",
    "-->"
   ]
  },
  {
   "cell_type": "markdown",
   "metadata": {},
   "source": [
    "<a id=\"ref4d\"></a>\n",
    "### d. Execute a Query (and return the results)\n",
    "Next, execute a query against a sample table and fetch the results into a R dataframe."
   ]
  },
  {
   "cell_type": "code",
   "execution_count": null,
   "metadata": {},
   "outputs": [],
   "source": [
    "# Type your code here"
   ]
  },
  {
   "cell_type": "markdown",
   "metadata": {},
   "source": [
    "Double-click __here__ for the __tip__.\n",
    "\n",
    "<!-- Fill in the ...\n",
    "query = \"SELECT * FROM ...\";\n",
    "rs = dbSendQuery(...);\n",
    "df = fetch(...);\n",
    "-->"
   ]
  },
  {
   "cell_type": "markdown",
   "metadata": {},
   "source": [
    "Double-click __here__ for the __solution__.\n",
    "\n",
    "<!-- Your answer is below:\n",
    "query = \"SELECT * FROM GOSALES.ORDER_DETAILS\";\n",
    "rs = dbSendQuery(conn, query);\n",
    "df = fetch(rs, -1);\n",
    "-->"
   ]
  },
  {
   "cell_type": "markdown",
   "metadata": {},
   "source": [
    "This dataframe is quite large … let’s examine the contents by looking at the first few rows: "
   ]
  },
  {
   "cell_type": "code",
   "execution_count": null,
   "metadata": {},
   "outputs": [],
   "source": [
    "# Type your code here"
   ]
  },
  {
   "cell_type": "markdown",
   "metadata": {},
   "source": [
    "Double-click __here__ for the __tip__.\n",
    "\n",
    "<!-- Fill in the ...\n",
    "head(...)\n",
    "-->"
   ]
  },
  {
   "cell_type": "markdown",
   "metadata": {},
   "source": [
    "Double-click __here__ for the __solution__.\n",
    "\n",
    "<!-- Your answer is below:\n",
    "head(df)\n",
    "-->"
   ]
  },
  {
   "cell_type": "markdown",
   "metadata": {},
   "source": [
    "<a id=\"ref4e\"></a>\n",
    "### e. Analyze the results\n",
    "Once the data is available in a R dataframe we can use standard R expressions to extract and analyze the information we are interested in. \n",
    "Let’s for example look at the order details for the order(s) with the highest QUANTITY:"
   ]
  },
  {
   "cell_type": "code",
   "execution_count": null,
   "metadata": {},
   "outputs": [],
   "source": [
    "# Type your code here"
   ]
  },
  {
   "cell_type": "markdown",
   "metadata": {},
   "source": [
    "Double-click __here__ for the __tip__.\n",
    "\n",
    "<!-- Fill in the ...\n",
    "maxqty = max(..., na.rm=...)\n",
    "print(df[df$QUANTITY==...,c(...)])\n",
    "-->"
   ]
  },
  {
   "cell_type": "markdown",
   "metadata": {},
   "source": [
    "Double-click __here__ for the __solution__.\n",
    "\n",
    "<!-- Your answer is below:\n",
    "maxqty = max(df$QUANTITY, na.rm=TRUE)\n",
    "print(df[df$QUANTITY==maxqty,c(1:9)])\n",
    "-->"
   ]
  },
  {
   "cell_type": "markdown",
   "metadata": {},
   "source": [
    "<a id=\"ref4f\"></a>\n",
    "### f. Dis-connect\n",
    "Finally, as a best practice we should close the database connection once we're done with it."
   ]
  },
  {
   "cell_type": "code",
   "execution_count": null,
   "metadata": {},
   "outputs": [],
   "source": [
    "# Type your code here"
   ]
  },
  {
   "cell_type": "markdown",
   "metadata": {},
   "source": [
    "Double-click __here__ for the __tip__.\n",
    "\n",
    "<!-- Fill in the ...\n",
    "dbDisconnect(...)\n",
    "-->"
   ]
  },
  {
   "cell_type": "markdown",
   "metadata": {},
   "source": [
    "Double-click __here__ for the __solution__.\n",
    "\n",
    "<!-- Your answer is below:\n",
    "dbDisconnect(conn)\n",
    "-->"
   ]
  },
  {
   "cell_type": "markdown",
   "metadata": {},
   "source": [
    "<a id=\"ref4g\"></a>\n",
    "### Summary\n",
    "In this lab you accessed data in a Db2 Warehouse on Cloud databse using RJDBC connection from a R notebook in JupyterLab, and fetched the results of a query for analysis in a R dataframe.\n",
    "\n",
    "This notebook is part of the free course on Cognitive Class called *Using R with Databases*. If you accessed this notebook outside the course, you can take this free self-paced course, online by going to: \n",
    "https://cognitiveclass.ai/courses/using-r-with-databases/"
   ]
  },
  {
   "cell_type": "markdown",
   "metadata": {},
   "source": [
    "<hr>\n",
    "<h3>Tell your friends that you're taking the Using R with Database course!</h3>\n",
    "\n",
    "<script type=\"text/javascript\" async src=\"https://platform.twitter.com/widgets.js\"></script>\n",
    "\n",
    "<a href=\"https://twitter.com/intent/tweet?url=https%3A%2F%2Fgoo.gl%2Fb6kJAj&via=bigdatau&text=I%20can%20now%20program%20in%20R!%20I%20finished%20this%20R%20course%20on%20IBM%27s%20Big%20Data%20University!&hashtags=rstats%2Cdatascience&related=bigdatau\">\n",
    "<textarea name=\"textarea1\" disabled=\"disabled\" style=\"resize:none;border-color:#00aced;color:#808080;height:80px\" cols=75>Just learnt how to use #RJDBC to access my database from #jupyter notebooks Thanks @cognitiveclass</textarea></a>\n",
    "<p></p><a class=\"twitter-share-button\" data-size=large href=\"https://twitter.com/intent/tweet?url=https%3A%2F%2Fgoo.gl%2Fb6kJAj&via=bigdatau&text=I%20can%20now%20program%20in%20R!%20I%20finished%20this%20R%20course%20on%20IBM%27s%20Big%20Data%20University!&hashtags=rstats%2Cdatascience&related=bigdatau\"></a>\n",
    "\n",
    "<a href=\"https://twitter.com/intent/tweet?text=Just+learnt+how+to+use+%23RJDBC+to+access+my+database+from+%23jupyter+notebooks+Thanks+%40BigDataU\">Tweet Now!</a>\n"
   ]
  },
  {
   "cell_type": "markdown",
   "metadata": {},
   "source": [
    "#### Thank you for completing this module on getting connected and querying databases using RJDBC.\n",
    "<hr>"
   ]
  },
  {
   "cell_type": "markdown",
   "metadata": {},
   "source": [
    "### About the Authors:  \n",
    "Hi! It's [Rav Ahuja](https://ca.linkedin.com/in/rav-ahuja-8aa4562a) and [Agatha Colangelo](https://www.linkedin.com/in/agathacolangelo), the authors of this notebook. We hope you found this lab easy to do! There's lots more to learn about R and Relational Databases but you're well on your way. Feel free to connect with us if you have any questions.\n",
    "<hr>"
   ]
  },
  {
   "cell_type": "markdown",
   "metadata": {},
   "source": [
    "Copyright &copy; 2017 [Cognitive Class](https://cognitiveclass.ai/?utm_source=bducopyrightlink&utm_medium=dswb&utm_campaign=bdu). This notebook and its source code are released under the terms of the [MIT License](https://cognitiveclass.ai/mit-license/)."
   ]
  }
 ],
 "metadata": {
  "kernelspec": {
   "display_name": "R",
   "language": "R",
   "name": "ir"
  },
  "language_info": {
   "codemirror_mode": "r",
   "file_extension": ".r",
   "mimetype": "text/x-r-source",
   "name": "R",
   "pygments_lexer": "r",
   "version": "3.5.1"
  },
  "widgets": {
   "state": {},
   "version": "1.1.2"
  }
 },
 "nbformat": 4,
 "nbformat_minor": 2
}
